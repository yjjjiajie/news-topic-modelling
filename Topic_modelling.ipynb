{
 "cells": [
  {
   "cell_type": "markdown",
   "id": "8a9c593e",
   "metadata": {},
   "source": [
    "# Topic Modelling for news articles"
   ]
  },
  {
   "cell_type": "markdown",
   "id": "23d1b516",
   "metadata": {},
   "source": [
    "## Overview"
   ]
  },
  {
   "cell_type": "markdown",
   "id": "3e1956a7",
   "metadata": {},
   "source": [
    "The aim of this project is to categorise news headline into various unique topics. The data is taken from https://www.kaggle.com/aaron7sun/stocknews. Topic modelling provides us with methods to organize, understand and summarize large collections of textual information. From there, we will be able to reduce the scope of large dataset and be able to dive in to our field of study."
   ]
  },
  {
   "cell_type": "markdown",
   "id": "d112d6c9",
   "metadata": {},
   "source": [
    "### Steps:\n",
    "    1. Data cleaning and processing\n",
    "    2. Creating document term matrix\n",
    "    3. Applying Non-Negative matrix factorisation\n",
    "    4. Retrieving top 15 words for each topic\n",
    "    5. Determining appropriate number of topics\n",
    "    6. Attaching discovered topic labels to original articles\n",
    "    7. Interpreting the topics based on keywords"
   ]
  },
  {
   "cell_type": "code",
   "execution_count": 5,
   "id": "55438047",
   "metadata": {},
   "outputs": [],
   "source": [
    "import pandas as pd\n",
    "import numpy as np"
   ]
  },
  {
   "cell_type": "code",
   "execution_count": 6,
   "id": "db7c9e22",
   "metadata": {},
   "outputs": [],
   "source": [
    "data = pd.read_csv(\"news.csv\")"
   ]
  },
  {
   "cell_type": "code",
   "execution_count": 7,
   "id": "bf9e888b",
   "metadata": {},
   "outputs": [
    {
     "data": {
      "text/plain": [
       "73608"
      ]
     },
     "execution_count": 7,
     "metadata": {},
     "output_type": "execute_result"
    }
   ],
   "source": [
    "len(data)"
   ]
  },
  {
   "cell_type": "code",
   "execution_count": 8,
   "id": "27bbc3d8",
   "metadata": {},
   "outputs": [
    {
     "data": {
      "text/html": [
       "<div>\n",
       "<style scoped>\n",
       "    .dataframe tbody tr th:only-of-type {\n",
       "        vertical-align: middle;\n",
       "    }\n",
       "\n",
       "    .dataframe tbody tr th {\n",
       "        vertical-align: top;\n",
       "    }\n",
       "\n",
       "    .dataframe thead th {\n",
       "        text-align: right;\n",
       "    }\n",
       "</style>\n",
       "<table border=\"1\" class=\"dataframe\">\n",
       "  <thead>\n",
       "    <tr style=\"text-align: right;\">\n",
       "      <th></th>\n",
       "      <th>Date</th>\n",
       "      <th>News</th>\n",
       "    </tr>\n",
       "  </thead>\n",
       "  <tbody>\n",
       "    <tr>\n",
       "      <th>0</th>\n",
       "      <td>2016-07-01</td>\n",
       "      <td>A 117-year-old woman in Mexico City finally re...</td>\n",
       "    </tr>\n",
       "    <tr>\n",
       "      <th>1</th>\n",
       "      <td>2016-07-01</td>\n",
       "      <td>IMF chief backs Athens as permanent Olympic host</td>\n",
       "    </tr>\n",
       "    <tr>\n",
       "      <th>2</th>\n",
       "      <td>2016-07-01</td>\n",
       "      <td>The president of France says if Brexit won, so...</td>\n",
       "    </tr>\n",
       "    <tr>\n",
       "      <th>3</th>\n",
       "      <td>2016-07-01</td>\n",
       "      <td>British Man Who Must Give Police 24 Hours' Not...</td>\n",
       "    </tr>\n",
       "    <tr>\n",
       "      <th>4</th>\n",
       "      <td>2016-07-01</td>\n",
       "      <td>100+ Nobel laureates urge Greenpeace to stop o...</td>\n",
       "    </tr>\n",
       "  </tbody>\n",
       "</table>\n",
       "</div>"
      ],
      "text/plain": [
       "         Date                                               News\n",
       "0  2016-07-01  A 117-year-old woman in Mexico City finally re...\n",
       "1  2016-07-01   IMF chief backs Athens as permanent Olympic host\n",
       "2  2016-07-01  The president of France says if Brexit won, so...\n",
       "3  2016-07-01  British Man Who Must Give Police 24 Hours' Not...\n",
       "4  2016-07-01  100+ Nobel laureates urge Greenpeace to stop o..."
      ]
     },
     "execution_count": 8,
     "metadata": {},
     "output_type": "execute_result"
    }
   ],
   "source": [
    "data.head()"
   ]
  },
  {
   "cell_type": "code",
   "execution_count": 9,
   "id": "dd2bb4aa",
   "metadata": {},
   "outputs": [
    {
     "name": "stdout",
     "output_type": "stream",
     "text": [
      "0\n"
     ]
    }
   ],
   "source": [
    "# check if all news content is str type\n",
    "count = 0\n",
    "\n",
    "for i,date,news in data.itertuples():  \n",
    "    if type(news) != str:\n",
    "        count += 1\n",
    "\n",
    "print(count)"
   ]
  },
  {
   "cell_type": "code",
   "execution_count": 10,
   "id": "cb0871bd",
   "metadata": {},
   "outputs": [],
   "source": [
    "# Lemmatize words, which transform words to its most basic form, such as ‘running’ and ‘ran’ to ‘run’ so that they are recognized as the same word\n",
    "from nltk.stem import WordNetLemmatizer\n",
    "import string\n",
    "\n",
    "# Function to remove punctuation\n",
    "def remove_punc(text):\n",
    "    no_punc = ''.join([w for w in text if w not in string.punctuation])\n",
    "    return no_punc\n",
    "\n",
    "lem = WordNetLemmatizer()\n",
    "def word_lemmatizer(text):\n",
    "    lemmas = [lem.lemmatize(w) for w in text]\n",
    "    return lemmas\n",
    "\n",
    "data['News'] = data['News'].apply(lambda x:remove_punc(x))\n",
    "data['News'] = data['News'].str.split(' ')\n",
    "data['News'] = data['News'].apply(lambda x: word_lemmatizer(x))\n",
    "data['News'] = data['News'].str.join(' ')"
   ]
  },
  {
   "cell_type": "markdown",
   "id": "21b8bbe4",
   "metadata": {},
   "source": [
    "## 2. Creating document term matrix"
   ]
  },
  {
   "cell_type": "code",
   "execution_count": 11,
   "id": "67e2b817",
   "metadata": {},
   "outputs": [],
   "source": [
    "from sklearn.feature_extraction.text import TfidfVectorizer"
   ]
  },
  {
   "cell_type": "code",
   "execution_count": 12,
   "id": "3dd7c44c",
   "metadata": {},
   "outputs": [],
   "source": [
    "# max_df = 0.9 : words present in more than 85% of the data will be removed\n",
    "# min_df = 3    : words present less than 3 times in the data will be removed\n",
    "\n",
    "tfidf = TfidfVectorizer(max_df=0.9, min_df=2, stop_words='english')"
   ]
  },
  {
   "cell_type": "code",
   "execution_count": 13,
   "id": "2554a5ad",
   "metadata": {},
   "outputs": [],
   "source": [
    "dtm = tfidf.fit_transform(data['News'])"
   ]
  },
  {
   "cell_type": "code",
   "execution_count": 14,
   "id": "9a647f1e",
   "metadata": {},
   "outputs": [
    {
     "data": {
      "text/plain": [
       "(73608, 25526)"
      ]
     },
     "execution_count": 14,
     "metadata": {},
     "output_type": "execute_result"
    }
   ],
   "source": [
    "dtm.shape"
   ]
  },
  {
   "cell_type": "markdown",
   "id": "20b6f2a2",
   "metadata": {},
   "source": [
    "## 3. Applying non-negative matrix factorisation"
   ]
  },
  {
   "cell_type": "code",
   "execution_count": 15,
   "id": "0b315e2d",
   "metadata": {},
   "outputs": [],
   "source": [
    "from sklearn.decomposition import NMF"
   ]
  },
  {
   "cell_type": "code",
   "execution_count": 16,
   "id": "6e01061b",
   "metadata": {},
   "outputs": [
    {
     "name": "stderr",
     "output_type": "stream",
     "text": [
      "/Users/jiajie/opt/anaconda3/lib/python3.9/site-packages/sklearn/decomposition/_nmf.py:312: FutureWarning: The 'init' value, when 'init=None' and n_components is less than n_samples and n_features, will be changed from 'nndsvd' to 'nndsvda' in 1.1 (renaming of 0.26).\n",
      "  warnings.warn((\"The 'init' value, when 'init=None' and \"\n",
      "/Users/jiajie/opt/anaconda3/lib/python3.9/site-packages/sklearn/decomposition/_nmf.py:1090: ConvergenceWarning: Maximum number of iterations 200 reached. Increase it to improve convergence.\n",
      "  warnings.warn(\"Maximum number of iterations %d reached. Increase it to\"\n"
     ]
    },
    {
     "data": {
      "text/plain": [
       "NMF(n_components=20, random_state=21)"
      ]
     },
     "execution_count": 16,
     "metadata": {},
     "output_type": "execute_result"
    }
   ],
   "source": [
    "nmf_model = NMF(n_components=20,random_state=21)     # n_components represents number of topics \n",
    "nmf_model.fit(dtm)"
   ]
  },
  {
   "cell_type": "code",
   "execution_count": 17,
   "id": "388d9fa4",
   "metadata": {},
   "outputs": [
    {
     "data": {
      "text/plain": [
       "(20, 25526)"
      ]
     },
     "execution_count": 17,
     "metadata": {},
     "output_type": "execute_result"
    }
   ],
   "source": [
    "nmf_model.components_.shape"
   ]
  },
  {
   "cell_type": "markdown",
   "id": "e587c9f0",
   "metadata": {},
   "source": [
    "## 4. Retrieving top 15 words for each topic"
   ]
  },
  {
   "cell_type": "code",
   "execution_count": 18,
   "id": "bbfdd61b",
   "metadata": {},
   "outputs": [
    {
     "name": "stdout",
     "output_type": "stream",
     "text": [
      "Top 15 words for topic #1\n",
      "['german', 'just', 'leader', 'called', 'international', 'time', 'month', 'states', 'ba', 'bthe', 'united', 'president', 'said', 'country', 'ha']\n",
      "\n",
      "\n",
      "Top 15 words for topic #2\n",
      "['rocket', 'border', 'military', 'threatens', 'koreas', 'test', 'nuclear', 'launch', 'bnorth', 'kim', 'missile', 'korean', 'south', 'north', 'korea']\n",
      "\n",
      "\n",
      "Top 15 words for topic #3\n",
      "['west', 'palestine', 'lebanon', 'egypt', 'jerusalem', 'jews', 'jewish', 'gaza', 'rocket', 'palestinian', 'settlement', 'peace', 'hamas', 'palestinians', 'israel']\n",
      "\n",
      "\n",
      "Top 15 words for topic #4\n",
      "['afghanistan', 'civilian', 'rebel', 'soldier', 'dead', 'pakistan', 'air', 'force', 'syrian', 'kill', 'isis', 'strike', 'people', 'syria', 'killed']\n",
      "\n",
      "\n",
      "Top 15 words for topic #5\n",
      "['arm', 'gas', 'europe', 'eu', 'snowden', 'ban', 'missile', 'nato', 'crimea', 'warns', 'sanction', 'putin', 'ukraine', 'syria', 'russia']\n",
      "\n",
      "\n",
      "Top 15 words for topic #6\n",
      "['change', 'expert', 'wont', 'pope', 'climate', 'prime', 'refugee', 'snowden', 'pm', 'chief', 'wa', 'minister', 'report', 'official', 'say']\n",
      "\n",
      "\n",
      "Top 15 words for topic #7\n",
      "['mexicos', 'blair', 'cartel', 'bthe', 'warns', 'cold', 'end', 'mexican', 'afghanistan', 'civil', 'mexico', 'iraq', 'crime', 'drug', 'war']\n",
      "\n",
      "\n",
      "Top 15 words for topic #8\n",
      "['program', 'sanction', 'talk', 'test', 'oil', 'iranian', 'deal', 'reactor', 'weapon', 'fukushima', 'japan', 'power', 'plant', 'nuclear', 'iran']\n",
      "\n",
      "\n",
      "Top 15 words for topic #9\n",
      "['billion', 'water', 'hong', 'build', 'chinas', 'beijing', 'island', 'military', 'oil', 'south', 'india', 'sea', 'japan', 'chinese', 'china']\n",
      "\n",
      "\n",
      "Top 15 words for topic #10\n",
      "['mexico', 'mexican', 'student', 'clash', 'shot', 'dead', 'video', 'man', 'riot', 'arrested', 'arrest', 'protester', 'officer', 'protest', 'police']\n",
      "\n",
      "\n",
      "Top 15 words for topic #11\n",
      "['climate', 'economy', 'population', 'food', 'billion', 'people', 'bthe', 'biggest', 'oil', 'global', 'largest', 'cup', 'country', 'bank', 'world']\n",
      "\n",
      "\n",
      "Top 15 words for topic #12\n",
      "['india', 'guinea', 'settlement', 'plan', 'minister', 'study', 'japan', 'constitution', 'earthquake', 'hit', 'times', 'york', 'law', 'zealand', 'new']\n",
      "\n",
      "\n",
      "Top 15 words for topic #13\n",
      "['life', 'face', '10', 'ago', 'girl', 'million', 'jail', 'time', 'sentenced', 'death', 'man', 'prison', 'old', 'wa', 'year']\n",
      "\n",
      "\n",
      "Top 15 words for topic #14\n",
      "['right', 'india', 'muslim', 'rape', 'sentenced', 'yemen', 'king', 'ban', 'man', 'oil', 'men', 'death', 'arabia', 'woman', 'saudi']\n",
      "\n",
      "\n",
      "Top 15 words for topic #15\n",
      "['group', 'kill', 'mumbai', 'india', 'planning', 'taliban', 'arrested', 'bomb', 'embassy', 'suicide', 'paris', 'terrorist', 'terror', 'pakistan', 'attack']\n",
      "\n",
      "\n",
      "Top 15 words for topic #16\n",
      "['abc', 'good', 'british', 'murdochs', 'fox', 'scandal', 'rupert', 'phone', 'bbbc', 'international', 'corp', 'murdoch', 'hacking', 'bbc', 'news']\n",
      "\n",
      "\n",
      "Top 15 words for topic #17\n",
      "['party', 'british', 'european', 'country', 'minister', 'eu', 'protest', 'court', 'human', 'internet', 'ban', 'law', 'right', 'uk', 'government']\n",
      "\n",
      "\n",
      "Top 15 words for topic #18\n",
      "['kurdish', 'fighter', 'join', 'iraqi', 'muslim', 'declares', 'militant', 'fight', 'isis', 'emergency', 'palestinian', 'group', 'iraq', 'islamic', 'state']\n",
      "\n",
      "\n",
      "Top 15 words for topic #19\n",
      "['rocket', 'settler', 'settlement', 'strip', 'bisraeli', 'aid', 'palestinians', 'soldier', 'hamas', 'west', 'bisrael', 'bank', 'palestinian', 'gaza', 'israeli']\n",
      "\n",
      "\n",
      "Top 15 words for topic #20\n",
      "['border', 'minister', 'nato', 'plane', 'force', 'jet', 'ukrainian', 'obama', 'vladimir', 'troop', 'putin', 'military', 'president', 'ukraine', 'russian']\n",
      "\n",
      "\n"
     ]
    }
   ],
   "source": [
    "for index,topic in enumerate(nmf_model.components_):\n",
    "    print(f'Top 15 words for topic #{index + 1}')\n",
    "    print([tfidf.get_feature_names()[i] for i in topic.argsort()[-15:]])\n",
    "    print('\\n')"
   ]
  },
  {
   "cell_type": "markdown",
   "id": "ac844480",
   "metadata": {},
   "source": [
    "## 5. Determining appropriate number of topics\n",
    "    "
   ]
  },
  {
   "cell_type": "markdown",
   "id": "1b8ee81a",
   "metadata": {},
   "source": [
    "We started off by using 20 topics. However, we can see that there are some topics which seemed to have some overlapping words. Examples of them are topics 4, 15, 18, 19 etc. Since we want a general categorisation of the news articles, we will reduce the number of topics. "
   ]
  },
  {
   "cell_type": "code",
   "execution_count": 19,
   "id": "4bd30cfa",
   "metadata": {},
   "outputs": [
    {
     "name": "stderr",
     "output_type": "stream",
     "text": [
      "/Users/jiajie/opt/anaconda3/lib/python3.9/site-packages/sklearn/decomposition/_nmf.py:312: FutureWarning: The 'init' value, when 'init=None' and n_components is less than n_samples and n_features, will be changed from 'nndsvd' to 'nndsvda' in 1.1 (renaming of 0.26).\n",
      "  warnings.warn((\"The 'init' value, when 'init=None' and \"\n"
     ]
    },
    {
     "name": "stdout",
     "output_type": "stream",
     "text": [
      "Top 15 words for topic #1\n",
      "['human', 'internet', 'law', 'people', 'ban', 'court', 'said', 'state', 'right', 'minister', 'president', 'uk', 'country', 'government', 'ha']\n",
      "\n",
      "\n",
      "Top 15 words for topic #2\n",
      "['rocket', 'border', 'threatens', 'military', 'koreas', 'test', 'nuclear', 'launch', 'bnorth', 'kim', 'missile', 'korean', 'south', 'north', 'korea']\n",
      "\n",
      "\n",
      "Top 15 words for topic #3\n",
      "['jerusalem', 'peace', 'aid', 'jewish', 'bisrael', 'rocket', 'settlement', 'west', 'bank', 'palestinians', 'hamas', 'palestinian', 'israeli', 'gaza', 'israel']\n",
      "\n",
      "\n",
      "Top 15 words for topic #4\n",
      "['soldier', 'dead', 'military', 'air', 'iraq', 'people', 'force', 'syrian', 'pakistan', 'strike', 'isis', 'kill', 'syria', 'killed', 'attack']\n",
      "\n",
      "\n",
      "Top 15 words for topic #5\n",
      "['president', 'moscow', 'crisis', 'troop', 'warns', 'sanction', 'vladimir', 'crimea', 'nato', 'military', 'syria', 'putin', 'russian', 'ukraine', 'russia']\n",
      "\n",
      "\n",
      "Top 15 words for topic #6\n",
      "['cartel', 'bthe', 'warns', 'cold', 'bisrael', 'end', 'mexican', 'gaza', 'afghanistan', 'civil', 'mexico', 'iraq', 'crime', 'drug', 'war']\n",
      "\n",
      "\n",
      "Top 15 words for topic #7\n",
      "['kong', 'chinas', 'water', 'hong', 'build', 'billion', 'beijing', 'island', 'oil', 'south', 'india', 'sea', 'japan', 'chinese', 'china']\n",
      "\n",
      "\n",
      "Top 15 words for topic #8\n",
      "['test', 'sanction', 'talk', 'saudi', 'iranian', 'oil', 'reactor', 'fukushima', 'deal', 'weapon', 'japan', 'power', 'plant', 'nuclear', 'iran']\n",
      "\n",
      "\n",
      "Top 15 words for topic #9\n",
      "['pope', 'wont', 'climate', 'refugee', 'human', 'wa', 'pm', 'right', 'president', 'chief', 'snowden', 'minister', 'report', 'official', 'say']\n",
      "\n",
      "\n",
      "Top 15 words for topic #10\n",
      "['man', 'student', 'people', 'shot', 'clash', 'uk', 'dead', 'video', 'riot', 'arrested', 'arrest', 'officer', 'protester', 'protest', 'police']\n",
      "\n",
      "\n",
      "Top 15 words for topic #11\n",
      "['internet', 'settlement', 'australia', 'set', 'study', 'plan', 'japan', 'constitution', 'earthquake', 'hit', 'times', 'york', 'law', 'zealand', 'new']\n",
      "\n",
      "\n",
      "Top 15 words for topic #12\n",
      "['india', 'population', 'billion', 'report', 'oil', 'bthe', 'biggest', 'global', 'country', 'largest', 'cup', 'bank', 'bbc', 'news', 'world']\n",
      "\n",
      "\n",
      "Top 15 words for topic #13\n",
      "['jail', 'face', 'men', 'girl', 'sentenced', 'arabia', 'old', 'prison', 'child', 'man', 'saudi', 'death', 'woman', 'wa', 'year']\n",
      "\n",
      "\n"
     ]
    }
   ],
   "source": [
    "# Using 13 topics\n",
    "nmf_model2 = NMF(n_components=13,random_state=21)     \n",
    "nmf_model2.fit(dtm)\n",
    "\n",
    "for index,topic in enumerate(nmf_model2.components_):\n",
    "    print(f'Top 15 words for topic #{index + 1}')\n",
    "    print([tfidf.get_feature_names()[i] for i in topic.argsort()[-15:]])\n",
    "    print('\\n')"
   ]
  },
  {
   "cell_type": "markdown",
   "id": "daa72e0e",
   "metadata": {},
   "source": [
    "Again, we see that topics 11 to 13 seemed a little vague and it is difficult to categorise them. We will try to reduce the scope by minimising the scope to 10 instead."
   ]
  },
  {
   "cell_type": "code",
   "execution_count": 20,
   "id": "ec4cd16f",
   "metadata": {},
   "outputs": [
    {
     "name": "stderr",
     "output_type": "stream",
     "text": [
      "/Users/jiajie/opt/anaconda3/lib/python3.9/site-packages/sklearn/decomposition/_nmf.py:312: FutureWarning: The 'init' value, when 'init=None' and n_components is less than n_samples and n_features, will be changed from 'nndsvd' to 'nndsvda' in 1.1 (renaming of 0.26).\n",
      "  warnings.warn((\"The 'init' value, when 'init=None' and \"\n"
     ]
    },
    {
     "name": "stdout",
     "output_type": "stream",
     "text": [
      "Top 15 words for topic #1\n",
      "['million', 'woman', 'right', 'president', 'court', 'people', 'law', 'uk', 'wa', 'country', 'government', 'world', 'new', 'year', 'ha']\n",
      "\n",
      "\n",
      "Top 15 words for topic #2\n",
      "['rocket', 'border', 'threatens', 'military', 'koreas', 'test', 'nuclear', 'launch', 'bnorth', 'kim', 'missile', 'korean', 'south', 'north', 'korea']\n",
      "\n",
      "\n",
      "Top 15 words for topic #3\n",
      "['jerusalem', 'peace', 'aid', 'jewish', 'bisrael', 'rocket', 'settlement', 'west', 'bank', 'palestinians', 'hamas', 'palestinian', 'israeli', 'gaza', 'israel']\n",
      "\n",
      "\n",
      "Top 15 words for topic #4\n",
      "['soldier', 'dead', 'air', 'military', 'iraq', 'people', 'force', 'syrian', 'strike', 'pakistan', 'isis', 'kill', 'syria', 'killed', 'attack']\n",
      "\n",
      "\n",
      "Top 15 words for topic #5\n",
      "['moscow', 'crisis', 'troop', 'warns', 'sanction', 'president', 'crimea', 'vladimir', 'nato', 'military', 'syria', 'putin', 'russian', 'ukraine', 'russia']\n",
      "\n",
      "\n",
      "Top 15 words for topic #6\n",
      "['eu', 'nsa', 'wont', 'refugee', 'pm', 'human', 'chief', 'prime', 'snowden', 'right', 'president', 'report', 'minister', 'official', 'say']\n",
      "\n",
      "\n",
      "Top 15 words for topic #7\n",
      "['billion', 'kong', 'water', 'chinas', 'hong', 'build', 'oil', 'beijing', 'island', 'south', 'india', 'sea', 'japan', 'chinese', 'china']\n",
      "\n",
      "\n",
      "Top 15 words for topic #8\n",
      "['sanction', 'talk', 'arabia', 'iranian', 'oil', 'saudi', 'fukushima', 'reactor', 'deal', 'weapon', 'japan', 'power', 'plant', 'nuclear', 'iran']\n",
      "\n",
      "\n",
      "Top 15 words for topic #9\n",
      "['cold', 'bisrael', 'warns', 'bthe', 'end', 'mexican', 'gaza', 'afghanistan', 'civil', 'mexico', 'world', 'iraq', 'crime', 'drug', 'war']\n",
      "\n",
      "\n",
      "Top 15 words for topic #10\n",
      "['clash', 'wa', 'shot', 'death', 'dead', 'video', 'riot', 'man', 'arrested', 'arrest', 'woman', 'officer', 'protester', 'protest', 'police']\n",
      "\n",
      "\n"
     ]
    }
   ],
   "source": [
    "# Using 13 topics\n",
    "nmf_model3 = NMF(n_components=10,random_state=21)     \n",
    "nmf_model3.fit(dtm)\n",
    "\n",
    "for index,topic in enumerate(nmf_model3.components_):\n",
    "    print(f'Top 15 words for topic #{index + 1}')\n",
    "    print([tfidf.get_feature_names()[i] for i in topic.argsort()[-15:]])\n",
    "    print('\\n')"
   ]
  },
  {
   "cell_type": "markdown",
   "id": "51a919a3",
   "metadata": {},
   "source": [
    "## 6. Attaching discovered topic labels to original articles\n",
    "   "
   ]
  },
  {
   "cell_type": "code",
   "execution_count": 21,
   "id": "5c45c48b",
   "metadata": {},
   "outputs": [],
   "source": [
    "topic_results = nmf_model3.transform(dtm)"
   ]
  },
  {
   "cell_type": "code",
   "execution_count": 23,
   "id": "ec05959c",
   "metadata": {},
   "outputs": [
    {
     "data": {
      "text/plain": [
       "array([0, 9, 5, ..., 4, 0, 0])"
      ]
     },
     "execution_count": 23,
     "metadata": {},
     "output_type": "execute_result"
    }
   ],
   "source": [
    "topic_results.argmax(axis=1)"
   ]
  },
  {
   "cell_type": "markdown",
   "id": "d53a7f94",
   "metadata": {},
   "source": [
    "## 7. Interpreting the topics based on keywords"
   ]
  },
  {
   "cell_type": "code",
   "execution_count": 24,
   "id": "cda8094f",
   "metadata": {},
   "outputs": [],
   "source": [
    "data['Topic'] = topic_results.argmax(axis=1)"
   ]
  },
  {
   "cell_type": "code",
   "execution_count": 25,
   "id": "25357f42",
   "metadata": {},
   "outputs": [],
   "source": [
    "data['Topic'] = data['Topic'].map({0:'Politics', \n",
    "                               1:'nuclear tension in North Korea', \n",
    "                               2:'Problems in Israel Palestine', \n",
    "                               3:'Terrorism attacks', \n",
    "                               4:'Russia-Ukraine Conflict', \n",
    "                               5:'War on drugs', \n",
    "                               6:'South China Sea Tensions', \n",
    "                               7:'Nuclear power, oil', \n",
    "                               8:'Climate and refugees problem', \n",
    "                               9:'Riots and protests'})"
   ]
  },
  {
   "cell_type": "code",
   "execution_count": 26,
   "id": "5675729f",
   "metadata": {},
   "outputs": [
    {
     "name": "stdout",
     "output_type": "stream",
     "text": [
      "topic: Riots and protests\n",
      "news: Taliban use honey trap boy to kill Afghan police  The Taliban are using child sex slave to mount crippling insider attack on police in southern Afghanistan\n",
      "\n",
      "topic: Problems in Israel Palestine\n",
      "news: COGAT Israel water supply to Palestinians increased not decreased\n",
      "\n",
      "topic: Riots and protests\n",
      "news: Deaths arrest a looting erupts in Venezuela\n",
      "\n",
      "topic: Politics\n",
      "news: Elderly Japanese among the world richest retiree are flocking to inheritance adviser tackling historical taboo on discussing death and providing a rare avenue of growth for the country brokerage and bank\n",
      "\n",
      "topic: Terrorism attacks\n",
      "news: Russian hooligan attack Spanish tourist outside cathedral  Independentie\n",
      "\n",
      "topic: Terrorism attacks\n",
      "news: Boko Haram shoot dead 18 woman at funeral in northern Nigeria\n",
      "\n",
      "topic: Terrorism attacks\n",
      "news: ISIS Committed Genocide Against Yazidis in Syria and Iraq UN Panel Says\n",
      "\n"
     ]
    }
   ],
   "source": [
    "for i in range(363,370):\n",
    "    print(\"topic: \" + data['Topic'][i])\n",
    "    print(\"news: \" + data['News'][i])\n",
    "    print()\n",
    "    "
   ]
  }
 ],
 "metadata": {
  "kernelspec": {
   "display_name": "Python 3 (ipykernel)",
   "language": "python",
   "name": "python3"
  },
  "language_info": {
   "codemirror_mode": {
    "name": "ipython",
    "version": 3
   },
   "file_extension": ".py",
   "mimetype": "text/x-python",
   "name": "python",
   "nbconvert_exporter": "python",
   "pygments_lexer": "ipython3",
   "version": "3.9.7"
  }
 },
 "nbformat": 4,
 "nbformat_minor": 5
}
